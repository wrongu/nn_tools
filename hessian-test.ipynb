{
 "cells": [
  {
   "cell_type": "code",
   "execution_count": 1,
   "metadata": {},
   "outputs": [],
   "source": [
    "import torch\n",
    "import torch.nn as nn\n",
    "import torch.nn.functional as F\n",
    "from torch.autograd.functional import jacobian, hessian\n",
    "import torchvision as tv\n",
    "from nn_tools.model_builder import Network\n",
    "from pprint import pprint\n",
    "import matplotlib.pyplot as plt\n",
    "import itertools\n",
    "from tqdm.auto import tqdm\n",
    "%matplotlib inline\n",
    "\n",
    "MODEL_SEED = 2824180  # chosen by keyboard-mashing\n",
    "DATA_SEED = MODEL_SEED + 10\n",
    "\n",
    "data = tv.datasets.CIFAR10('data/cifar10',\n",
    "                           train=True,\n",
    "                           transform=tv.transforms.ToTensor())\n",
    "loader = torch.utils.data.DataLoader(data,\n",
    "                                     batch_size=128,\n",
    "                                     shuffle=True,\n",
    "                                     generator=torch.Generator().manual_seed(DATA_SEED),\n",
    "                                     pin_memory=True,\n",
    "                                     num_workers=16)\n",
    "\n",
    "# Get a single example batch for testing\n",
    "im, la = next(iter(loader))"
   ]
  },
  {
   "cell_type": "markdown",
   "metadata": {},
   "source": [
    "## Make a convnet"
   ]
  },
  {
   "cell_type": "code",
   "execution_count": 2,
   "metadata": {
    "pycharm": {
     "name": "#%%\n"
    }
   },
   "outputs": [],
   "source": [
    "def get_model_def():\n",
    "    return {\n",
    "        'input': None,\n",
    "        'stack1': {\n",
    "            'bn': nn.BatchNorm2d(num_features=3),\n",
    "            'conv': nn.Conv2d(in_channels=3, out_channels=32, kernel_size=3, stride=1, padding=1),\n",
    "            'relu': nn.ReLU(),\n",
    "            'pool': nn.MaxPool2d(2)\n",
    "        },\n",
    "        'stack2': {\n",
    "            'bn': nn.BatchNorm2d(num_features=32),\n",
    "            'conv': nn.Conv2d(in_channels=32, out_channels=64, kernel_size=3, stride=1, padding=1),\n",
    "            'relu': nn.ReLU(),\n",
    "            'pool': nn.MaxPool2d(2)\n",
    "        },\n",
    "        'stack3': {\n",
    "            'bn': nn.BatchNorm2d(num_features=64),\n",
    "            'conv': nn.Conv2d(in_channels=64, out_channels=128, kernel_size=3, stride=1, padding=1),\n",
    "            'relu': nn.ReLU(),\n",
    "            'pool': nn.MaxPool2d(2)\n",
    "        },\n",
    "        'stack4': {\n",
    "            'bn': nn.BatchNorm2d(num_features=128),\n",
    "            'conv': nn.Conv2d(in_channels=128, out_channels=256, kernel_size=3, stride=1, padding=1),\n",
    "            'relu': nn.ReLU(),\n",
    "            'pool': nn.MaxPool2d(4)\n",
    "        },\n",
    "        'proj': nn.Sequential(nn.Flatten(), nn.Linear(256, 10))\n",
    "    }"
   ]
  },
  {
   "cell_type": "code",
   "execution_count": 3,
   "metadata": {},
   "outputs": [],
   "source": [
    "torch.manual_seed(MODEL_SEED)\n",
    "mdl = Network(get_model_def())"
   ]
  },
  {
   "cell_type": "markdown",
   "metadata": {},
   "source": [
    "## Two functions for getting size-`(channels, channels, h*w)` hessian, summed over batches"
   ]
  },
  {
   "cell_type": "code",
   "execution_count": 4,
   "metadata": {},
   "outputs": [],
   "source": [
    "def sum_hessian_naive(loss, hidden):\n",
    "    \"\"\"Given scalar tensor 'loss' and (b,c,h,w) batch of feature planes, computes (c,c)-size\n",
    "     sum of hessians, summed over both the batch dimension and space.\n",
    "\n",
    "    We make use of the fact that grad^2(f) = grad(grad(f)) and that sum of grads = grad of sum. So, sum(grad^2(f)) is\n",
    "    computed as grad(sum(grad(f))), with sums taken over the batch dimension.\n",
    "    \"\"\"\n",
    "    b, c, h, w = hidden.size()\n",
    "    hessian = hidden.new_zeros(c, c)\n",
    "    grad = torch.autograd.grad(loss, hidden, retain_graph=True, create_graph=True)[0]\n",
    "    sum_grad = torch.sum(grad, dim=0)\n",
    "    progbar = tqdm(desc='naive hessian', total=c*h*w)\n",
    "    for i in range(c):\n",
    "        # NOTE: this is inefficient because it computes the hessian w.r.t. all x,y,x',y' pairs of location, only for us\n",
    "        # to subselect later where x==x' and y==y'. Alas, torch doesn't let us take the grad w.r.t. a subset of\n",
    "        # features, since slice operations break dependency graph.\n",
    "        for y, x in itertools.product(range(h), range(w)):\n",
    "            progbar.update(1)\n",
    "            hess_ixy = torch.autograd.grad(sum_grad[i, y, x], hidden, retain_graph=True)[0]\n",
    "            hessian[i, :] += hess_ixy[:, :, y, x].sum(dim=0)\n",
    "    return hessian\n",
    "\n",
    "\n",
    "def sum_hessian_functional(model, loss_fn, hidden, layer_name):\n",
    "    \"\"\"The key idea here is to define a local function that 'injects' some new activity into a layer, then\n",
    "    runs the model forward from there and re-calculates the loss. We can then make use of hessian\n",
    "    to compute the channels x channels hessian per batch & location, without additional memory overhead computing\n",
    "    the hessian w.r.t. pairs of units we don't care about.\n",
    "    \"\"\"\n",
    "    b, c, h, w = hidden.size()\n",
    "    hidden = hidden.detach()\n",
    "    hessian = hidden.new_zeros(c, c)\n",
    "    for y, x in tqdm(itertools.product(range(h), range(w)), total=w*h, desc='functional hessian'):\n",
    "        tmp = hidden.clone()\n",
    "        \n",
    "        def inject_and_calculate_loss(h_slice):\n",
    "            tmp[:, :, y, x] = h_slice\n",
    "            new_out = model({layer_name: tmp}, warn_if_missing=False)\n",
    "            return loss_fn(new_out)\n",
    "        \n",
    "        def jacobian_at_yx(h_slice):\n",
    "            # Jacobian of loss w.r.t (batch, channels) slice\n",
    "            batch_jacobian = jacobian(inject_and_calculate_loss, h_slice, create_graph=True)\n",
    "            # Sum over batches --> output is size (channels,)\n",
    "            return batch_jacobian.sum(dim=0)\n",
    "        \n",
    "        # Hessian is grad(grad(loss)). Implement here as jacobian(jacobian(...)), summed over batches.\n",
    "        # Note: the_slice cannot just be tmp[:,:,y,x], since this is a 'slice' type, and for whatever\n",
    "        # reason it results in all-zeros in the hessian. My theory is that you can't re-use a slice\n",
    "        # view twice, and there is a kind of implicit retain_graph=True when doing create_graph=True.\n",
    "        # The upshot is that .clone() on the view gives us a tensor that behaves more cleanly as a\n",
    "        # leaf in the computation graph.\n",
    "        the_slice = tmp[:,:,y,x].clone()\n",
    "        batch_hessian_at_yx = jacobian(jacobian_at_yx, the_slice)\n",
    "        # In virtue of being a jacobian of a jacobian, the size of batch_hessian_at_yx is\n",
    "        # (channels, batch, channels). Sum over the batch dimension:\n",
    "        hessian += batch_hessian_at_yx.sum(dim=1)\n",
    "    return hessian\n",
    "\n",
    "\n",
    "def sum_hessian_functional2(model, loss_fn, hidden, layer_name):\n",
    "    \"\"\"Like sum_hessian_functional but using torch's hessian() instead of our own jacobian(jacobian(...)).\n",
    "    \n",
    "    This is SLOW. We include an optimization in sum_hessian_functional by summing over batches in between, i.e.\n",
    "    we do jacobian(sum(jacobian(...), dim=0)). This function instead loops over batches, and can take hours\n",
    "    to run for a single batch/layer.\n",
    "    \"\"\"\n",
    "    b, c, h, w = hidden.size()\n",
    "    hidden = hidden.detach()\n",
    "    hess = hidden.new_zeros(c, c)\n",
    "    for i, y, x in tqdm(itertools.product(range(b), range(h), range(w)), total=b*w*h, desc='functional hessian v2'):\n",
    "        tmp = hidden.clone()\n",
    "        \n",
    "        def inject_and_calculate_loss(h_slice):\n",
    "            tmp[i, :, y, x] = h_slice\n",
    "            new_out = model({layer_name: tmp}, warn_if_missing=False)\n",
    "            return loss_fn(new_out)\n",
    "        \n",
    "        the_slice = tmp[i,:,y,x].clone()\n",
    "        hess += hessian(inject_and_calculate_loss, the_slice)\n",
    "    return hess"
   ]
  },
  {
   "cell_type": "code",
   "execution_count": 5,
   "metadata": {},
   "outputs": [],
   "source": [
    "device = 'cuda:0'\n",
    "mdl.to(device)\n",
    "im, la = next(iter(loader))\n",
    "im, la = im.to(device), la.to(device)\n",
    "layer_name = 'stack1/relu'"
   ]
  },
  {
   "cell_type": "code",
   "execution_count": 6,
   "metadata": {},
   "outputs": [
    {
     "data": {
      "application/vnd.jupyter.widget-view+json": {
       "model_id": "c652a0acb62845d590ad4b27511878ab",
       "version_major": 2,
       "version_minor": 0
      },
      "text/plain": [
       "naive hessian:   0%|          | 0/32768 [00:00<?, ?it/s]"
      ]
     },
     "metadata": {},
     "output_type": "display_data"
    }
   ],
   "source": [
    "out = mdl({'input': im})\n",
    "loss = F.cross_entropy(out['proj'], la)\n",
    "hidden = out[layer_name]\n",
    "hessian1 = sum_hessian_naive(loss, hidden)"
   ]
  },
  {
   "cell_type": "code",
   "execution_count": 7,
   "metadata": {},
   "outputs": [
    {
     "data": {
      "application/vnd.jupyter.widget-view+json": {
       "model_id": "da7adb5b16834f8e9bb9fcf159da479e",
       "version_major": 2,
       "version_minor": 0
      },
      "text/plain": [
       "functional hessian:   0%|          | 0/1024 [00:00<?, ?it/s]"
      ]
     },
     "metadata": {},
     "output_type": "display_data"
    }
   ],
   "source": [
    "out = mdl({'input': im})\n",
    "hidden = out[layer_name]\n",
    "hessian2 = sum_hessian_functional(mdl, lambda o: F.cross_entropy(o['proj'], la), hidden, layer_name)"
   ]
  },
  {
   "cell_type": "markdown",
   "metadata": {},
   "source": [
    "Note: `sum_hessian_functional2` is too slow (like >2 hours to compute `hessian3`). Skipping it..."
   ]
  },
  {
   "cell_type": "code",
   "execution_count": 8,
   "metadata": {},
   "outputs": [],
   "source": [
    "# out = mdl({'input': im})\n",
    "# hidden = out[layer_name]\n",
    "# hessian3 = sum_hessian_functional2(mdl, lambda o: F.cross_entropy(o['proj'], la), hidden, layer_name)"
   ]
  },
  {
   "cell_type": "markdown",
   "metadata": {},
   "source": [
    "### Scatter plot: did the two hessian methods agree?"
   ]
  },
  {
   "cell_type": "code",
   "execution_count": 9,
   "metadata": {},
   "outputs": [
    {
     "data": {
      "image/png": "[encoded data removed]",
      "text/plain": [
       "<Figure size 432x288 with 1 Axes>"
      ]
     },
     "metadata": {
      "needs_background": "light"
     },
     "output_type": "display_data"
    }
   ],
   "source": [
    "plt.figure()\n",
    "plt.scatter(hessian1.flatten().cpu(), hessian2.flatten().cpu(), marker='.')\n",
    "plt.axis('equal')\n",
    "plt.grid('on')\n",
    "plt.xlabel('hessian entries, method 1')\n",
    "plt.ylabel('hessian entries, method 2')\n",
    "plt.show()"
   ]
  }
 ],
 "metadata": {
  "kernelspec": {
   "display_name": "Python 3 (ipykernel)",
   "language": "python",
   "name": "python3"
  },
  "language_info": {
   "codemirror_mode": {
    "name": "ipython",
    "version": 3
   },
   "file_extension": ".py",
   "mimetype": "text/x-python",
   "name": "python",
   "nbconvert_exporter": "python",
   "pygments_lexer": "ipython3",
   "version": "3.10.4"
  }
 },
 "nbformat": 4,
 "nbformat_minor": 1
}
